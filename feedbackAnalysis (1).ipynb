{
 "cells": [
  {
   "cell_type": "code",
   "execution_count": 1,
   "metadata": {},
   "outputs": [],
   "source": [
    "import numpy as np\n",
    "import re\n",
    "import nltk\n",
    "import pandas as pd\n",
    "#nltk.download('stopwords')\n",
    "import pickle\n",
    "from nltk.corpus import stopwords\n",
    "from textblob import TextBlob\n",
    "from sklearn.feature_extraction.text import CountVectorizer\n",
    "from sklearn.feature_extraction.text import TfidfTransformer\n",
    "from sklearn.feature_extraction.text import TfidfVectorizer\n",
    "from sklearn.model_selection import train_test_split\n",
    "from sklearn.ensemble import RandomForestClassifier\n",
    "from sklearn.tree import DecisionTreeClassifier \n",
    "from sklearn.naive_bayes import GaussianNB \n",
    "from sklearn.metrics import classification_report, confusion_matrix, accuracy_score\n",
    "import matplotlib.pyplot as plt\n",
    "from sklearn import metrics "
   ]
  },
  {
   "cell_type": "code",
   "execution_count": 2,
   "metadata": {},
   "outputs": [],
   "source": [
    "recommendation = pd.read_csv('/Users/simrankumarisah/Downloads/feedbacksFormatted.csv',encoding='unicode_escape')\n",
    "X, y = recommendation.Data, recommendation.Target"
   ]
  },
  {
   "cell_type": "code",
   "execution_count": 3,
   "metadata": {},
   "outputs": [],
   "source": [
    "def sentimentClassification(text):\n",
    "    blob = TextBlob(text)\n",
    "    if blob.sentiment.polarity < 0:\n",
    "        a=\"Not satisfied\"\n",
    "    elif blob.sentiment.polarity == 0:\n",
    "        a=\"No Comment\"\n",
    "    elif blob.sentiment.polarity > 0 and blob.sentiment.polarity <0.6:\n",
    "        a=\"Satisfied\"\n",
    "    else:\n",
    "        a=\"Very Satisfied\"\n",
    "    return a,blob.sentiment.polarity"
   ]
  },
  {
   "cell_type": "code",
   "execution_count": 4,
   "metadata": {},
   "outputs": [],
   "source": [
    "def feedback_classification(feedback):\n",
    "    if feedback==\"Behaviour torwards students\":\n",
    "        a=\"Behaviour torwards students\"\n",
    "    elif feedback==\"Teaching Skills\":\n",
    "        a=\"Teaching Skills\"\n",
    "    elif feedback==\"General\":\n",
    "        a=\"General\"\n",
    "    else:\n",
    "        a=\"Punctuality\"\n",
    "    return a"
   ]
  },
  {
   "cell_type": "code",
   "execution_count": 5,
   "metadata": {},
   "outputs": [],
   "source": [
    "def processed_documents(data):\n",
    "    documentss = []\n",
    "    from nltk.stem import WordNetLemmatizer\n",
    "    stemmer = WordNetLemmatizer()\n",
    "    for sen in range(0, len(data)):\n",
    "        # Remove all the special characters\n",
    "        document = re.sub(r'\\W', ' ', str(data[sen]))\n",
    "    \n",
    "        # remove all single characters\n",
    "        document = re.sub(r'\\s+[a-zA-Z]\\s+', ' ', document) \n",
    "    \n",
    "        # Remove single characters from the start\n",
    "        document = re.sub(r'\\^[a-zA-Z]\\s+', ' ', document) \n",
    "    \n",
    "        # Substituting multiple spaces with single space\n",
    "        document = re.sub(r'\\s+', ' ', document, flags=re.I)\n",
    "    \n",
    "        # Removing prefixed 'b'\n",
    "        document = re.sub(r'^b\\s+', '', document)\n",
    "    \n",
    "        # Converting to Lowercase\n",
    "        document = document.lower()\n",
    "    \n",
    "        # Lemmatization\n",
    "        document = document.split()\n",
    "\n",
    "        document = [stemmer.lemmatize(word) for word in document]\n",
    "        document = ' '.join(document)\n",
    "    \n",
    "        documentss.append(document)\n",
    "    return documentss\n",
    "    \n",
    "documents=processed_documents(X)"
   ]
  },
  {
   "cell_type": "code",
   "execution_count": 6,
   "metadata": {},
   "outputs": [],
   "source": [
    "def vectorization(data):\n",
    "    vectorizer = CountVectorizer(max_features=500)\n",
    "    X = vectorizer.fit_transform(data).toarray()\n",
    "    tfidfconverter = TfidfTransformer()\n",
    "    X = tfidfconverter.fit_transform(X).toarray()\n",
    "    tfidfconverter = TfidfVectorizer(max_features=500)\n",
    "    X = tfidfconverter.fit_transform(data).toarray()\n",
    "    return X\n",
    "X=vectorization(documents)"
   ]
  },
  {
   "cell_type": "code",
   "execution_count": 7,
   "metadata": {},
   "outputs": [],
   "source": [
    "X_train, X_test, y_train, y_test = train_test_split(X, y, test_size=0.20, random_state=0)"
   ]
  },
  {
   "cell_type": "code",
   "execution_count": 8,
   "metadata": {},
   "outputs": [],
   "source": [
    "def RFclassifier(X_train, X_test, y_train, y_test):\n",
    "    classifier = RandomForestClassifier(n_estimators=100, random_state=0)\n",
    "    classifier.fit(X_train, y_train)\n",
    "    y_pred = classifier.predict(X_test)\n",
    "    classifier.score(X_test,y_test)\n",
    "    return classifier"
   ]
  },
  {
   "cell_type": "code",
   "execution_count": 9,
   "metadata": {},
   "outputs": [
    {
     "name": "stdout",
     "output_type": "stream",
     "text": [
      "RandomForestClassifier(bootstrap=True, class_weight=None, criterion='gini',\n",
      "                       max_depth=None, max_features='auto', max_leaf_nodes=None,\n",
      "                       min_impurity_decrease=0.0, min_impurity_split=None,\n",
      "                       min_samples_leaf=1, min_samples_split=2,\n",
      "                       min_weight_fraction_leaf=0.0, n_estimators=100,\n",
      "                       n_jobs=None, oob_score=False, random_state=0, verbose=0,\n",
      "                       warm_start=False)\n",
      "['Teaching Skills' 'General' 'Teaching Skills' 'Teaching Skills' 'General'\n",
      " 'Behaviour towards students' 'Teaching Skills' 'Teaching Skills'\n",
      " 'Behaviour towards students' 'Teaching Skills' 'Teaching Skills'\n",
      " 'Behaviour towards students' 'Teaching Skills' 'Teaching Skills'\n",
      " 'General' 'Teaching Skills' 'General' 'General' 'General'\n",
      " 'Behaviour towards students' 'General' 'Teaching Skills' 'General'\n",
      " 'Punctuality' 'General' 'General' 'General' 'Behaviour towards students'\n",
      " 'Behaviour towards students' 'Teaching Skills' 'Teaching Skills'\n",
      " 'Teaching Skills' 'Teaching Skills' 'Teaching Skills' 'Punctuality'\n",
      " 'Teaching Skills' 'Teaching Skills' 'General' 'Teaching Skills'\n",
      " 'Teaching Skills' 'General' 'Teaching Skills' 'Teaching Skills' 'General'\n",
      " 'Teaching Skills' 'General' 'Teaching Skills' 'Teaching Skills'\n",
      " 'Teaching Skills' 'Teaching Skills' 'Teaching Skills'\n",
      " 'Behaviour towards students' 'Teaching Skills' 'General'\n",
      " 'Teaching Skills' 'Teaching Skills' 'General' 'General' 'General'\n",
      " 'Teaching Skills' 'Teaching Skills' 'Teaching Skills' 'Teaching Skills'\n",
      " 'Teaching Skills' 'Teaching Skills' 'General' 'Teaching Skills']\n",
      "0.746268656716418\n",
      "[[ 6  1  0 10]\n",
      " [ 0 16  0  2]\n",
      " [ 0  0  2  0]\n",
      " [ 1  3  0 26]]\n",
      "                            precision    recall  f1-score   support\n",
      "\n",
      "Behaviour towards students       0.86      0.35      0.50        17\n",
      "                   General       0.80      0.89      0.84        18\n",
      "               Punctuality       1.00      1.00      1.00         2\n",
      "           Teaching Skills       0.68      0.87      0.76        30\n",
      "\n",
      "                  accuracy                           0.75        67\n",
      "                 macro avg       0.84      0.78      0.78        67\n",
      "              weighted avg       0.77      0.75      0.73        67\n",
      "\n",
      "Accuracy : 74.6268656716418\n"
     ]
    }
   ],
   "source": [
    "classifier = RandomForestClassifier(n_estimators=100, random_state=0)\n",
    "print(classifier.fit(X_train, y_train))\n",
    "y_pred = classifier.predict(X_test)\n",
    "print(y_pred)\n",
    "print(classifier.score(X_test,y_test))\n",
    "print(confusion_matrix(y_test,y_pred))\n",
    "print(classification_report(y_test,y_pred))\n",
    "print(\"Accuracy : {}\".format(accuracy_score(y_test, y_pred)*100))"
   ]
  },
  {
   "cell_type": "code",
   "execution_count": 10,
   "metadata": {},
   "outputs": [
    {
     "name": "stdout",
     "output_type": "stream",
     "text": [
      "['Teaching Skills' 'General' 'Teaching Skills' 'Teaching Skills'\n",
      " 'Teaching Skills' 'Teaching Skills' 'Teaching Skills' 'Teaching Skills'\n",
      " 'Teaching Skills' 'Teaching Skills' 'Teaching Skills' 'Teaching Skills'\n",
      " 'Teaching Skills' 'Teaching Skills' 'Teaching Skills' 'Teaching Skills'\n",
      " 'Teaching Skills' 'Teaching Skills' 'Teaching Skills' 'Teaching Skills'\n",
      " 'Teaching Skills' 'Teaching Skills' 'Teaching Skills' 'Punctuality'\n",
      " 'Teaching Skills' 'Teaching Skills' 'General' 'Teaching Skills'\n",
      " 'Teaching Skills' 'Teaching Skills' 'Teaching Skills' 'Teaching Skills'\n",
      " 'Teaching Skills' 'Teaching Skills' 'Punctuality' 'Teaching Skills'\n",
      " 'Teaching Skills' 'Teaching Skills' 'Teaching Skills' 'Teaching Skills'\n",
      " 'Teaching Skills' 'Teaching Skills' 'Teaching Skills' 'Teaching Skills'\n",
      " 'Teaching Skills' 'Teaching Skills' 'Teaching Skills' 'Teaching Skills'\n",
      " 'Teaching Skills' 'Teaching Skills' 'Teaching Skills' 'Teaching Skills'\n",
      " 'Teaching Skills' 'Teaching Skills' 'Teaching Skills' 'Teaching Skills'\n",
      " 'Teaching Skills' 'Teaching Skills' 'Teaching Skills' 'Teaching Skills'\n",
      " 'Teaching Skills' 'Teaching Skills' 'Teaching Skills' 'Teaching Skills'\n",
      " 'Teaching Skills' 'Teaching Skills' 'Teaching Skills']\n",
      "Confusion Matrix:  [[ 0  0  0 17]\n",
      " [ 0  2  0 16]\n",
      " [ 0  0  2  0]\n",
      " [ 0  0  0 30]]\n",
      "Accuracy :  50.74626865671642\n",
      "Report :                              precision    recall  f1-score   support\n",
      "\n",
      "Behaviour towards students       0.00      0.00      0.00        17\n",
      "                   General       1.00      0.11      0.20        18\n",
      "               Punctuality       1.00      1.00      1.00         2\n",
      "           Teaching Skills       0.48      1.00      0.65        30\n",
      "\n",
      "                  accuracy                           0.51        67\n",
      "                 macro avg       0.62      0.53      0.46        67\n",
      "              weighted avg       0.51      0.51      0.37        67\n",
      "\n"
     ]
    },
    {
     "name": "stderr",
     "output_type": "stream",
     "text": [
      "/Users/simrankumarisah/opt/anaconda3/lib/python3.7/site-packages/sklearn/metrics/classification.py:1437: UndefinedMetricWarning: Precision and F-score are ill-defined and being set to 0.0 in labels with no predicted samples.\n",
      "  'precision', 'predicted', average, warn_for)\n"
     ]
    }
   ],
   "source": [
    "Dclassifier=DecisionTreeClassifier(random_state = 0,max_depth=3, min_samples_leaf=5) \n",
    "Dclassifier.fit(X_train, y_train) \n",
    "y_pred = Dclassifier.predict(X_test) \n",
    "print(y_pred) \n",
    "print(\"Confusion Matrix: \", confusion_matrix(y_test, y_pred)) \n",
    "print (\"Accuracy : \", accuracy_score(y_test,y_pred)*100)       \n",
    "print(\"Report : \", classification_report(y_test, y_pred)) "
   ]
  },
  {
   "cell_type": "code",
   "execution_count": 11,
   "metadata": {},
   "outputs": [
    {
     "name": "stdout",
     "output_type": "stream",
     "text": [
      "['Teaching Skills' 'General' 'Teaching Skills' 'Teaching Skills'\n",
      " 'Behaviour towards students' 'Teaching Skills' 'Teaching Skills'\n",
      " 'Teaching Skills' 'Behaviour towards students' 'Teaching Skills'\n",
      " 'Teaching Skills' 'Behaviour towards students' 'Teaching Skills'\n",
      " 'Punctuality' 'Behaviour towards students' 'Teaching Skills' 'General'\n",
      " 'Teaching Skills' 'General' 'Behaviour towards students' 'Punctuality'\n",
      " 'Behaviour towards students' 'General' 'Teaching Skills'\n",
      " 'Teaching Skills' 'Teaching Skills' 'General'\n",
      " 'Behaviour towards students' 'Behaviour towards students'\n",
      " 'Teaching Skills' 'Teaching Skills' 'Teaching Skills' 'Teaching Skills'\n",
      " 'Behaviour towards students' 'Punctuality' 'Teaching Skills'\n",
      " 'Teaching Skills' 'General' 'Teaching Skills' 'Teaching Skills'\n",
      " 'Behaviour towards students' 'Teaching Skills' 'Teaching Skills'\n",
      " 'General' 'Teaching Skills' 'Punctuality' 'Behaviour towards students'\n",
      " 'Teaching Skills' 'Behaviour towards students' 'Teaching Skills'\n",
      " 'Behaviour towards students' 'Behaviour towards students'\n",
      " 'Teaching Skills' 'General' 'Punctuality' 'Teaching Skills'\n",
      " 'Teaching Skills' 'Teaching Skills' 'Behaviour towards students'\n",
      " 'Teaching Skills' 'Teaching Skills' 'Teaching Skills' 'Teaching Skills'\n",
      " 'Teaching Skills' 'Teaching Skills' 'Punctuality' 'Teaching Skills']\n",
      "Confusion Matrix:  [[10  0  2  5]\n",
      " [ 4  8  2  4]\n",
      " [ 0  0  1  1]\n",
      " [ 1  0  1 28]]\n",
      "Report :                              precision    recall  f1-score   support\n",
      "\n",
      "Behaviour towards students       0.67      0.59      0.62        17\n",
      "                   General       1.00      0.44      0.62        18\n",
      "               Punctuality       0.17      0.50      0.25         2\n",
      "           Teaching Skills       0.74      0.93      0.82        30\n",
      "\n",
      "                  accuracy                           0.70        67\n",
      "                 macro avg       0.64      0.62      0.58        67\n",
      "              weighted avg       0.77      0.70      0.70        67\n",
      "\n",
      "70.1492537313433\n"
     ]
    }
   ],
   "source": [
    "NVclassifier=GaussianNB() \n",
    "NVclassifier.fit(X_train, y_train) \n",
    "y_pred = NVclassifier.predict(X_test) \n",
    "print(y_pred)\n",
    "print(\"Confusion Matrix: \", confusion_matrix(y_test, y_pred)) \n",
    "print(\"Report : \", classification_report(y_test, y_pred)) \n",
    "print(metrics.accuracy_score(y_test, y_pred)*100)"
   ]
  },
  {
   "cell_type": "markdown",
   "metadata": {},
   "source": [
    "# New Feedback\n"
   ]
  },
  {
   "cell_type": "code",
   "execution_count": null,
   "metadata": {},
   "outputs": [],
   "source": [
    "feedback=input(\"Enter new feedback :\\t\")\n",
    "e,y=sentimentClassification(feedback)\n",
    "feedback=pd.DataFrame([{\"Data\":feedback,\"Target\":\"dummy\"}])\n",
    "feedback = pd.concat([recommendation , feedback]).reset_index(drop=True)\n",
    "feedback_X, feedback_y = feedback.Data, feedback.Target\n",
    "feedback_documents=processed_documents(feedback_X)\n",
    "feedback_X=vectorization(feedback_documents)\n",
    "feedbackX_train, feedbackX_test, feedbacky_train= feedback_X[:feedback_X.shape[0]-1,:],feedback_X[0,:],feedback_y.iloc[:feedback_y.size-1]\n",
    "feedback_model = RandomForestClassifier(n_estimators=1000, random_state=0)\n",
    "feedback_model.fit(feedbackX_train, feedbacky_train)\n",
    "feedback_prediction = feedback_model.predict(feedbackX_test.reshape(1,-1))\n",
    "print(\"..................................................................\")\n",
    "print(\"Polarity Score : {}\".format(y))\n",
    "print(\"Comment  : {}\".format(e))\n",
    "print(feedback_prediction)\n",
    "print(\"Feedback Classification :{}\".format(feedback_classification(feedback_prediction)))"
   ]
  },
  {
   "cell_type": "code",
   "execution_count": null,
   "metadata": {},
   "outputs": [],
   "source": [
    "plot_size = plt.rcParams[\"figure.figsize\"] \n",
    "print(plot_size[0]) \n",
    "print(plot_size[1])\n",
    "plot_size[0] = 8\n",
    "plot_size[1] = 6\n",
    "plt.rcParams[\"figure.figsize\"] = plot_size\n",
    "recommendation.Target.value_counts().plot(kind='pie', autopct='%1.0f%%', colors=[\"red\", \"yellow\", \"green\",\"blue\"])"
   ]
  },
  {
   "cell_type": "code",
   "execution_count": null,
   "metadata": {},
   "outputs": [],
   "source": [
    "frequency = np.unique(recommendation['Target'] , return_counts=True)"
   ]
  },
  {
   "cell_type": "code",
   "execution_count": null,
   "metadata": {},
   "outputs": [],
   "source": [
    "plt.hist(recommendation['Target'])"
   ]
  }
 ],
 "metadata": {
  "kernelspec": {
   "display_name": "Python 3",
   "language": "python",
   "name": "python3"
  },
  "language_info": {
   "codemirror_mode": {
    "name": "ipython",
    "version": 3
   },
   "file_extension": ".py",
   "mimetype": "text/x-python",
   "name": "python",
   "nbconvert_exporter": "python",
   "pygments_lexer": "ipython3",
   "version": "3.7.4"
  }
 },
 "nbformat": 4,
 "nbformat_minor": 2
}
